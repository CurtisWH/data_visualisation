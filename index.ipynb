{
 "cells": [
  {
   "cell_type": "markdown",
   "metadata": {
    "collapsed": true,
    "pycharm": {
     "name": "#%% md\n"
    }
   },
   "source": [
    "# How (not) to lie with pretty pictures\n",
    "## The psychology of data visualisation"
   ]
  },
  {
   "cell_type": "markdown",
   "source": [
    "### Introduction"
   ],
   "metadata": {
    "collapsed": false,
    "pycharm": {
     "name": "#%% md\n"
    }
   }
  },
  {
   "cell_type": "markdown",
   "source": [
    "As data scientists, we regularly find ourselves having to present data to many different people. Some of whom won't have a high level of data literacy. In such situations good visualisations become indispensable.\n",
    "\n",
    "But what exactly is a 'good' visualisation? I think most of us have our intuitions - but as data scientists we should all realise that intuitions have limits. Thankfully this is an area of active research. In particular, [The Science of Data Visual Communication](https://journals.sagepub.com/stoken/default+domain/10.1177%2F15291006211051956-FREE/pdf) was my primary resource for most of the information that follows.\n",
    "\n",
    "The intention of this document is to summarise some of the key ideas in the paper, whilst giving examples to demonstrate both what does work and what doesn't. It will give a brief idea of the theory behind the examples, to make for better generalisations but won't be going too deep. For that, I refer you to the aforementioned paper and its numerous references.\n",
    "\n",
    "#### So why do we even bother?\n",
    "\n",
    "The first (and most important) question we might ask is why we even bother with data visualisation at all? We could always just look at the data or use statistical summaries to interogate it, so what value does a pretty picture add? For that, consider the following data:"
   ],
   "metadata": {
    "collapsed": false
   }
  },
  {
   "cell_type": "code",
   "execution_count": 28,
   "outputs": [],
   "source": [
    "import numpy as np\n",
    "import pandas as pd\n",
    "import matplotlib.pyplot as plt\n",
    "import seaborn as sns"
   ],
   "metadata": {
    "collapsed": false,
    "pycharm": {
     "name": "#%%\n"
    }
   }
  },
  {
   "cell_type": "code",
   "execution_count": 17,
   "outputs": [
    {
     "name": "stdout",
     "output_type": "stream",
     "text": [
      "     x    y_1   y_2    y_3\n",
      "0   10   8.04  9.14   7.46\n",
      "1    8   6.95  8.14   6.77\n",
      "2   13   7.58  8.74  12.74\n",
      "3    9   8.81  8.77   7.11\n",
      "4   11   8.33  9.26   7.81\n",
      "5   14   9.96  8.10   8.84\n",
      "6    6   7.24  6.13   6.08\n",
      "7    4   4.26  3.10   5.39\n",
      "8   12  10.84  9.13   8.15\n",
      "9    7   4.82  7.26   6.42\n",
      "10   5   5.68  4.74   5.73\n",
      "               x        y_1        y_2        y_3\n",
      "count  11.000000  11.000000  11.000000  11.000000\n",
      "mean    9.000000   7.500909   7.500909   7.500000\n",
      "std     3.316625   2.031568   2.031657   2.030424\n",
      "min     4.000000   4.260000   3.100000   5.390000\n",
      "25%     6.500000   6.315000   6.695000   6.250000\n",
      "50%     9.000000   7.580000   8.140000   7.110000\n",
      "75%    11.500000   8.570000   8.950000   7.980000\n",
      "max    14.000000  10.840000   9.260000  12.740000\n",
      "            x       y_1       y_2       y_3\n",
      "x    1.000000  0.816421  0.816237  0.816287\n",
      "y_1  0.816421  1.000000  0.750005  0.468717\n",
      "y_2  0.816237  0.750005  1.000000  0.587919\n",
      "y_3  0.816287  0.468717  0.587919  1.000000\n"
     ]
    }
   ],
   "source": [
    "x = np.array([10,8,13,9,11,14,6,4,12,7,5])\n",
    "y_1 = np.array([8.04,6.95,7.58,8.81,8.33,9.96, 7.24,4.26,10.84,4.82,5.68])\n",
    "y_2 = np.array([9.14, 8.14, 8.74,8.77,9.26,8.10,6.13,3.10,9.13,7.26,4.74])\n",
    "y_3 = np.array([7.46,6.77,12.74,7.11,7.81,8.84,6.08,5.39,8.15,6.42,5.73])\n",
    "\n",
    "data = pd.DataFrame({'x': x,\n",
    "                     'y_1':y_1,\n",
    "                     'y_2':y_2,\n",
    "                     'y_3':y_3\n",
    "})\n",
    "\n",
    "print(data.head(11))\n",
    "print(data.describe())\n",
    "print(data.corr())"
   ],
   "metadata": {
    "collapsed": false,
    "pycharm": {
     "name": "#%%\n"
    }
   }
  },
  {
   "cell_type": "markdown",
   "source": [
    "What I have here is 3 outputs, all for the same input variable x. Moreover, you should see the 3 outputs have the same mean and standard deviation. They even have the same correlation coefficient with x! Ergo, you might expect that all 3 are fairly similar distributions. But not so."
   ],
   "metadata": {
    "collapsed": false
   }
  },
  {
   "cell_type": "code",
   "execution_count": 31,
   "outputs": [
    {
     "data": {
      "text/plain": "<AxesSubplot:xlabel='x', ylabel='y_3'>"
     },
     "execution_count": 31,
     "metadata": {},
     "output_type": "execute_result"
    },
    {
     "data": {
      "text/plain": "<Figure size 432x288 with 3 Axes>",
      "image/png": "[encoded data removed]"
     },
     "metadata": {
      "needs_background": "light"
     },
     "output_type": "display_data"
    }
   ],
   "source": [
    "fig, axs = plt.subplots(ncols=3, sharey='row')\n",
    "\n",
    "sns.regplot(data = data, x='x', y='y_1', ax = axs[0], ci=None)\n",
    "sns.regplot(data = data, x='x', y='y_2', ax = axs[1], ci=None)\n",
    "sns.regplot(data = data, x='x', y='y_3', ax = axs[2], ci=None)"
   ],
   "metadata": {
    "collapsed": false,
    "pycharm": {
     "name": "#%%\n"
    }
   }
  },
  {
   "cell_type": "markdown",
   "source": [],
   "metadata": {
    "collapsed": false
   }
  },
  {
   "cell_type": "markdown",
   "source": [],
   "metadata": {
    "collapsed": false
   }
  }
 ],
 "metadata": {
  "kernelspec": {
   "display_name": "Python 3",
   "language": "python",
   "name": "python3"
  },
  "language_info": {
   "codemirror_mode": {
    "name": "ipython",
    "version": 2
   },
   "file_extension": ".py",
   "mimetype": "text/x-python",
   "name": "python",
   "nbconvert_exporter": "python",
   "pygments_lexer": "ipython2",
   "version": "2.7.6"
  }
 },
 "nbformat": 4,
 "nbformat_minor": 0
}